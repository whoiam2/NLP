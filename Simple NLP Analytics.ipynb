{
 "cells": [
  {
   "cell_type": "code",
   "execution_count": 1,
   "metadata": {},
   "outputs": [],
   "source": [
    "import re\n",
    "import unidecode\n",
    "import string\n",
    "import unicodedata\n",
    "import pandas as pd\n",
    "import numpy as np\n",
    "import nltk\n",
    "from nltk.corpus import stopwords\n",
    "from nltk import word_tokenize\n",
    "from nltk import word_tokenize, sent_tokenize\n",
    "from nltk.corpus import stopwords\n",
    "from nltk.stem import LancasterStemmer, WordNetLemmatizer\n",
    "from nltk.util import ngrams\n",
    "from IPython.core.interactiveshell import InteractiveShell\n",
    "InteractiveShell.ast_node_interactivity = \"all\""
   ]
  },
  {
   "cell_type": "code",
   "execution_count": 2,
   "metadata": {},
   "outputs": [
    {
     "name": "stdout",
     "output_type": "stream",
     "text": [
      "The scikit-learn version is 0.24.1.\n"
     ]
    }
   ],
   "source": [
    "import sklearn\n",
    "print('The scikit-learn version is {}.'.format(sklearn.__version__))"
   ]
  },
  {
   "cell_type": "markdown",
   "metadata": {},
   "source": [
    "# Load Data"
   ]
  },
  {
   "cell_type": "code",
   "execution_count": 4,
   "metadata": {},
   "outputs": [
    {
     "name": "stdout",
     "output_type": "stream",
     "text": [
      "<class 'pandas.core.frame.DataFrame'>\n",
      "RangeIndex: 5000 entries, 0 to 4999\n",
      "Data columns (total 3 columns):\n",
      " #   Column    Non-Null Count  Dtype \n",
      "---  ------    --------------  ----- \n",
      " 0   id        5000 non-null   int64 \n",
      " 1   sms_text  5000 non-null   object\n",
      " 2   spam      5000 non-null   int64 \n",
      "dtypes: int64(2), object(1)\n",
      "memory usage: 117.3+ KB\n"
     ]
    },
    {
     "data": {
      "text/html": [
       "<div>\n",
       "<style scoped>\n",
       "    .dataframe tbody tr th:only-of-type {\n",
       "        vertical-align: middle;\n",
       "    }\n",
       "\n",
       "    .dataframe tbody tr th {\n",
       "        vertical-align: top;\n",
       "    }\n",
       "\n",
       "    .dataframe thead th {\n",
       "        text-align: right;\n",
       "    }\n",
       "</style>\n",
       "<table border=\"1\" class=\"dataframe\">\n",
       "  <thead>\n",
       "    <tr style=\"text-align: right;\">\n",
       "      <th></th>\n",
       "      <th>id</th>\n",
       "      <th>sms_text</th>\n",
       "      <th>spam</th>\n",
       "    </tr>\n",
       "  </thead>\n",
       "  <tbody>\n",
       "    <tr>\n",
       "      <th>0</th>\n",
       "      <td>1</td>\n",
       "      <td>Hope you are having a good week. Just checking in</td>\n",
       "      <td>0</td>\n",
       "    </tr>\n",
       "    <tr>\n",
       "      <th>1</th>\n",
       "      <td>2</td>\n",
       "      <td>K..give back my thanks.</td>\n",
       "      <td>0</td>\n",
       "    </tr>\n",
       "    <tr>\n",
       "      <th>2</th>\n",
       "      <td>3</td>\n",
       "      <td>Am also doing in cbe only. But have to pay.</td>\n",
       "      <td>0</td>\n",
       "    </tr>\n",
       "    <tr>\n",
       "      <th>3</th>\n",
       "      <td>4</td>\n",
       "      <td>complimentary 4 STAR Ibiza Holiday or £10,000 ...</td>\n",
       "      <td>1</td>\n",
       "    </tr>\n",
       "    <tr>\n",
       "      <th>4</th>\n",
       "      <td>5</td>\n",
       "      <td>okmail: Dear Dave this is your final notice to...</td>\n",
       "      <td>1</td>\n",
       "    </tr>\n",
       "  </tbody>\n",
       "</table>\n",
       "</div>"
      ],
      "text/plain": [
       "   id                                           sms_text  spam\n",
       "0   1  Hope you are having a good week. Just checking in     0\n",
       "1   2                            K..give back my thanks.     0\n",
       "2   3        Am also doing in cbe only. But have to pay.     0\n",
       "3   4  complimentary 4 STAR Ibiza Holiday or £10,000 ...     1\n",
       "4   5  okmail: Dear Dave this is your final notice to...     1"
      ]
     },
     "execution_count": 4,
     "metadata": {},
     "output_type": "execute_result"
    }
   ],
   "source": [
    "df = pd.read_csv(\"spamraw_train.csv\")\n",
    "df.info()\n",
    "df.head()"
   ]
  },
  {
   "cell_type": "code",
   "execution_count": 5,
   "metadata": {},
   "outputs": [
    {
     "data": {
      "text/plain": [
       "array([4327,  673], dtype=int64)"
      ]
     },
     "execution_count": 5,
     "metadata": {},
     "output_type": "execute_result"
    }
   ],
   "source": [
    "np.bincount(df['spam'])"
   ]
  },
  {
   "cell_type": "markdown",
   "metadata": {},
   "source": [
    "# Build Pipeline"
   ]
  },
  {
   "cell_type": "code",
   "execution_count": 6,
   "metadata": {},
   "outputs": [],
   "source": [
    "# Simple preprocessor.\n",
    "# Input is a single document, as a single string.\n",
    "# Otuput should be a single document, as a single string.\n",
    "stop_words = set(stopwords.words('english')) - {'you','your','have','now','won'}\n",
    "stop_words.add('also')\n",
    "#I noticed that [not,no] is removed as a stop word, and {also} is not in the set,\n",
    "#thus, we should add it back as it is important to determine the polarity with this.\n",
    "\n",
    "lemmer = WordNetLemmatizer()\n",
    "\n",
    "def my_preprocess(doc):\n",
    "    \n",
    "    # Lowercase\n",
    "    doc = doc.lower()\n",
    "    \n",
    "    # Remove URLs\n",
    "    #doc = re.sub(r'http\\S+', '', doc)\n",
    "    doc = re.sub(r'[^\\w\\s]', ' ', doc)    \n",
    "    # TODO: What else?\n",
    "    doc = unidecode.unidecode(doc)\n",
    "    \n",
    "    #x = re.sub(r'\\d+', '', x)\n",
    "    #doc = lemmer.lemmatize(w)\n",
    "    doc = [lemmer.lemmatize(w) for w in doc.split() if w not in stop_words]\n",
    "    return ' '.join(doc)"
   ]
  },
  {
   "cell_type": "code",
   "execution_count": 7,
   "metadata": {},
   "outputs": [
    {
     "data": {
      "text/html": [
       "<div>\n",
       "<style scoped>\n",
       "    .dataframe tbody tr th:only-of-type {\n",
       "        vertical-align: middle;\n",
       "    }\n",
       "\n",
       "    .dataframe tbody tr th {\n",
       "        vertical-align: top;\n",
       "    }\n",
       "\n",
       "    .dataframe thead th {\n",
       "        text-align: right;\n",
       "    }\n",
       "</style>\n",
       "<table border=\"1\" class=\"dataframe\">\n",
       "  <thead>\n",
       "    <tr style=\"text-align: right;\">\n",
       "      <th></th>\n",
       "      <th>id</th>\n",
       "      <th>sms_text</th>\n",
       "      <th>spam</th>\n",
       "      <th>sms_text_clean</th>\n",
       "    </tr>\n",
       "  </thead>\n",
       "  <tbody>\n",
       "    <tr>\n",
       "      <th>0</th>\n",
       "      <td>1</td>\n",
       "      <td>Hope you are having a good week. Just checking in</td>\n",
       "      <td>0</td>\n",
       "      <td>hope you good week checking</td>\n",
       "    </tr>\n",
       "    <tr>\n",
       "      <th>1</th>\n",
       "      <td>2</td>\n",
       "      <td>K..give back my thanks.</td>\n",
       "      <td>0</td>\n",
       "      <td>k give back thanks</td>\n",
       "    </tr>\n",
       "    <tr>\n",
       "      <th>2</th>\n",
       "      <td>3</td>\n",
       "      <td>Am also doing in cbe only. But have to pay.</td>\n",
       "      <td>0</td>\n",
       "      <td>cbe have pay</td>\n",
       "    </tr>\n",
       "    <tr>\n",
       "      <th>3</th>\n",
       "      <td>4</td>\n",
       "      <td>complimentary 4 STAR Ibiza Holiday or £10,000 ...</td>\n",
       "      <td>1</td>\n",
       "      <td>complimentary 4 star ibiza holiday 10 000 cash...</td>\n",
       "    </tr>\n",
       "    <tr>\n",
       "      <th>4</th>\n",
       "      <td>5</td>\n",
       "      <td>okmail: Dear Dave this is your final notice to...</td>\n",
       "      <td>1</td>\n",
       "      <td>okmail dear dave your final notice collect you...</td>\n",
       "    </tr>\n",
       "    <tr>\n",
       "      <th>...</th>\n",
       "      <td>...</td>\n",
       "      <td>...</td>\n",
       "      <td>...</td>\n",
       "      <td>...</td>\n",
       "    </tr>\n",
       "    <tr>\n",
       "      <th>95</th>\n",
       "      <td>96</td>\n",
       "      <td>Dear reached railway. What happen to you</td>\n",
       "      <td>0</td>\n",
       "      <td>dear reached railway happen you</td>\n",
       "    </tr>\n",
       "    <tr>\n",
       "      <th>96</th>\n",
       "      <td>97</td>\n",
       "      <td>Probably gonna swing by in a wee bit</td>\n",
       "      <td>0</td>\n",
       "      <td>probably gonna swing wee bit</td>\n",
       "    </tr>\n",
       "    <tr>\n",
       "      <th>97</th>\n",
       "      <td>98</td>\n",
       "      <td>K k pa Had your lunch aha.</td>\n",
       "      <td>0</td>\n",
       "      <td>k k pa your lunch aha</td>\n",
       "    </tr>\n",
       "    <tr>\n",
       "      <th>98</th>\n",
       "      <td>99</td>\n",
       "      <td>Whom you waited for yesterday</td>\n",
       "      <td>0</td>\n",
       "      <td>you waited yesterday</td>\n",
       "    </tr>\n",
       "    <tr>\n",
       "      <th>99</th>\n",
       "      <td>100</td>\n",
       "      <td>Urgent Urgent! We have 800 FREE flights to Eur...</td>\n",
       "      <td>1</td>\n",
       "      <td>urgent urgent have 800 free flight europe give...</td>\n",
       "    </tr>\n",
       "  </tbody>\n",
       "</table>\n",
       "<p>100 rows × 4 columns</p>\n",
       "</div>"
      ],
      "text/plain": [
       "     id                                           sms_text  spam  \\\n",
       "0     1  Hope you are having a good week. Just checking in     0   \n",
       "1     2                            K..give back my thanks.     0   \n",
       "2     3        Am also doing in cbe only. But have to pay.     0   \n",
       "3     4  complimentary 4 STAR Ibiza Holiday or £10,000 ...     1   \n",
       "4     5  okmail: Dear Dave this is your final notice to...     1   \n",
       "..  ...                                                ...   ...   \n",
       "95   96           Dear reached railway. What happen to you     0   \n",
       "96   97               Probably gonna swing by in a wee bit     0   \n",
       "97   98                         K k pa Had your lunch aha.     0   \n",
       "98   99                      Whom you waited for yesterday     0   \n",
       "99  100  Urgent Urgent! We have 800 FREE flights to Eur...     1   \n",
       "\n",
       "                                       sms_text_clean  \n",
       "0                         hope you good week checking  \n",
       "1                                  k give back thanks  \n",
       "2                                        cbe have pay  \n",
       "3   complimentary 4 star ibiza holiday 10 000 cash...  \n",
       "4   okmail dear dave your final notice collect you...  \n",
       "..                                                ...  \n",
       "95                    dear reached railway happen you  \n",
       "96                       probably gonna swing wee bit  \n",
       "97                              k k pa your lunch aha  \n",
       "98                               you waited yesterday  \n",
       "99  urgent urgent have 800 free flight europe give...  \n",
       "\n",
       "[100 rows x 4 columns]"
      ]
     },
     "execution_count": 7,
     "metadata": {},
     "output_type": "execute_result"
    }
   ],
   "source": [
    "\n",
    "df['sms_text_clean'] = df['sms_text'].apply(my_preprocess)\n",
    "df.head(100)"
   ]
  },
  {
   "cell_type": "code",
   "execution_count": 8,
   "metadata": {},
   "outputs": [],
   "source": [
    "from sklearn.model_selection import train_test_split\n",
    "\n",
    "X = df['sms_text_clean']\n",
    "y = df['spam']\n",
    "\n",
    "X_train, X_val, y_train, y_val = train_test_split(X, y, test_size=0.2, random_state=42)"
   ]
  },
  {
   "cell_type": "code",
   "execution_count": 9,
   "metadata": {},
   "outputs": [
    {
     "data": {
      "text/plain": [
       "pandas.core.series.Series"
      ]
     },
     "execution_count": 9,
     "metadata": {},
     "output_type": "execute_result"
    },
    {
     "data": {
      "text/plain": [
       "(4000,)"
      ]
     },
     "execution_count": 9,
     "metadata": {},
     "output_type": "execute_result"
    },
    {
     "data": {
      "text/plain": [
       "4227    cashbin co uk get lot cash weekend www cashbin...\n",
       "4676                            free call sir waiting you\n",
       "800     keep safe need you miss you already envy every...\n",
       "3671                   you call tell now infront call now\n",
       "4193                         reach home safe n sound liao\n",
       "Name: sms_text_clean, dtype: object"
      ]
     },
     "execution_count": 9,
     "metadata": {},
     "output_type": "execute_result"
    },
    {
     "data": {
      "text/plain": [
       "pandas.core.series.Series"
      ]
     },
     "execution_count": 9,
     "metadata": {},
     "output_type": "execute_result"
    },
    {
     "data": {
      "text/plain": [
       "(4000,)"
      ]
     },
     "execution_count": 9,
     "metadata": {},
     "output_type": "execute_result"
    },
    {
     "data": {
      "text/plain": [
       "4227    1\n",
       "4676    0\n",
       "800     0\n",
       "3671    0\n",
       "4193    0\n",
       "Name: spam, dtype: int64"
      ]
     },
     "execution_count": 9,
     "metadata": {},
     "output_type": "execute_result"
    }
   ],
   "source": [
    "type(X_train)\n",
    "X_train.shape\n",
    "X_train.head()\n",
    "\n",
    "type(y_train)\n",
    "y_train.shape\n",
    "y_train.head()"
   ]
  },
  {
   "cell_type": "code",
   "execution_count": 21,
   "metadata": {},
   "outputs": [
    {
     "name": "stdout",
     "output_type": "stream",
     "text": [
      "Wall time: 0 ns\n"
     ]
    },
    {
     "data": {
      "text/plain": [
       "Pipeline(steps=[('cv',\n",
       "                 TfidfVectorizer(max_df=0.3, max_features=600, min_df=15,\n",
       "                                 ngram_range=[1, 3])),\n",
       "                ('clf',\n",
       "                 GridSearchCV(cv=5, estimator=LGBMClassifier(),\n",
       "                              param_grid={'boosting_type': ['gbdt'],\n",
       "                                          'colsample_bytree': [0.6,\n",
       "                                                               0.6444444444444444,\n",
       "                                                               0.6888888888888889,\n",
       "                                                               0.7333333333333333,\n",
       "                                                               0.7777777777777778,\n",
       "                                                               0.8222222222222222,\n",
       "                                                               0.8666666666666667,\n",
       "                                                               0.9111111111111111,\n",
       "                                                               0.9555555555555555,\n",
       "                                                               1.0],\n",
       "                                          'is_unbalance': [False],\n",
       "                                          'learning_rate': [0.1],\n",
       "                                          'num_leaves': [15, 16, 17, 18, 19, 20,\n",
       "                                                         21, 22, 23, 24, 25, 26,\n",
       "                                                         27, 28, 29]},\n",
       "                              scoring='f1'))])"
      ]
     },
     "execution_count": 21,
     "metadata": {},
     "output_type": "execute_result"
    },
    {
     "name": "stdout",
     "output_type": "stream",
     "text": [
      "205.9205677509308\n"
     ]
    }
   ],
   "source": [
    "import time\n",
    "start = time.time()\n",
    "\n",
    "from sklearn.pipeline import Pipeline\n",
    "from sklearn.feature_extraction.text import TfidfVectorizer, CountVectorizer\n",
    "from sklearn.model_selection import GridSearchCV\n",
    "from sklearn.tree import DecisionTreeClassifier\n",
    "import lightgbm as lgb\n",
    "vectorizer = TfidfVectorizer(min_df=15, max_df=.3, max_features = 600, ngram_range=[1,3])\n",
    "lgbm = lgb.LGBMClassifier()\n",
    "\n",
    "num_leaves = np.arange(15,30,1).tolist()\n",
    "param_grid = {\n",
    "    'boosting_type': ['gbdt'],\n",
    "    'num_leaves': num_leaves,\n",
    "    'learning_rate':[0.1],\n",
    "#    'subsample_for_bin': (range(20000, 300000, 20000)),\n",
    "#    'min_child_samples': list(range(20, 500, 5)),\n",
    "#    'reg_lambda': (np.linspace(0, 1,num = 10)).tolist(),\n",
    "#    'reg_lambda': (np.linspace(0, 1)),\n",
    "    'colsample_bytree': (np.linspace(0.6, 1, 10)).tolist(),\n",
    "#    'subsample': list(np.linspace(0.5, 1, 100)),\n",
    "    'is_unbalance': [False]\n",
    "}\n",
    "# Initialize a RandomizedSearchCV object using 5-fold CV-\n",
    "rs_cv = GridSearchCV(estimator=lgbm, param_grid=param_grid, cv = 5,verbose=0,scoring = 'f1')\n",
    "\n",
    "%time\n",
    "pipe = Pipeline([('cv', vectorizer), ('clf', rs_cv)])\n",
    "pipe.fit(X_train, y_train)\n",
    "\n",
    "end = time.time()\n",
    "print(end - start)"
   ]
  },
  {
   "cell_type": "code",
   "execution_count": 20,
   "metadata": {},
   "outputs": [
    {
     "data": {
      "text/plain": [
       "array([0.6       , 0.64444444, 0.68888889, 0.73333333, 0.77777778,\n",
       "       0.82222222, 0.86666667, 0.91111111, 0.95555556, 1.        ])"
      ]
     },
     "execution_count": 20,
     "metadata": {},
     "output_type": "execute_result"
    }
   ],
   "source": [
    "(np.linspace(0.6, 1, 10))"
   ]
  },
  {
   "cell_type": "code",
   "execution_count": 22,
   "metadata": {},
   "outputs": [
    {
     "data": {
      "text/plain": [
       "{'boosting_type': 'gbdt',\n",
       " 'colsample_bytree': 0.6,\n",
       " 'is_unbalance': False,\n",
       " 'learning_rate': 0.1,\n",
       " 'num_leaves': 15}"
      ]
     },
     "execution_count": 22,
     "metadata": {},
     "output_type": "execute_result"
    }
   ],
   "source": [
    "rs_cv.best_params_"
   ]
  },
  {
   "cell_type": "markdown",
   "metadata": {},
   "source": [
    "# Estimate Model Performance"
   ]
  },
  {
   "cell_type": "code",
   "execution_count": 24,
   "metadata": {},
   "outputs": [
    {
     "name": "stdout",
     "output_type": "stream",
     "text": [
      "Confusion matrix:\n",
      "[[866   4]\n",
      " [ 14 116]]\n",
      "\n",
      "F1 Score = 0.95886\n",
      "\n",
      "Classification Report:\n",
      "              precision    recall  f1-score   support\n",
      "\n",
      "           0       0.98      1.00      0.99       870\n",
      "           1       0.97      0.89      0.93       130\n",
      "\n",
      "    accuracy                           0.98      1000\n",
      "   macro avg       0.98      0.94      0.96      1000\n",
      "weighted avg       0.98      0.98      0.98      1000\n",
      "\n"
     ]
    }
   ],
   "source": [
    "from sklearn.metrics import confusion_matrix\n",
    "from sklearn.metrics import classification_report, f1_score\n",
    "#X_val_2 = vectorizer_model.transform(X_val)\n",
    "pred_val = pipe.predict(X_val)\n",
    "\n",
    "print(\"Confusion matrix:\")\n",
    "print(confusion_matrix(y_val, pred_val))\n",
    "\n",
    "print(\"\\nF1 Score = {:.5f}\".format(f1_score(y_val, pred_val, average=\"macro\")))\n",
    "\n",
    "print(\"\\nClassification Report:\")\n",
    "print(classification_report(y_val, pred_val))"
   ]
  }
 ],
 "metadata": {
  "kernelspec": {
   "display_name": "Python 3",
   "language": "python",
   "name": "python3"
  },
  "language_info": {
   "codemirror_mode": {
    "name": "ipython",
    "version": 3
   },
   "file_extension": ".py",
   "mimetype": "text/x-python",
   "name": "python",
   "nbconvert_exporter": "python",
   "pygments_lexer": "ipython3",
   "version": "3.8.3"
  }
 },
 "nbformat": 4,
 "nbformat_minor": 4
}
